{
  "nbformat": 4,
  "nbformat_minor": 0,
  "metadata": {
    "colab": {
      "provenance": [],
      "authorship_tag": "ABX9TyM6TT8afIccWjuKKNTN+YXC",
      "include_colab_link": true
    },
    "kernelspec": {
      "name": "python3",
      "display_name": "Python 3"
    },
    "language_info": {
      "name": "python"
    }
  },
  "cells": [
    {
      "cell_type": "markdown",
      "metadata": {
        "id": "view-in-github",
        "colab_type": "text"
      },
      "source": [
        "<a href=\"https://colab.research.google.com/github/PihuPihuPihu/DS-ASSIGNMENT-1/blob/main/Time%26space.ipynb\" target=\"_parent\"><img src=\"https://colab.research.google.com/assets/colab-badge.svg\" alt=\"Open In Colab\"/></a>"
      ]
    },
    {
      "cell_type": "code",
      "execution_count": 8,
      "metadata": {
        "colab": {
          "base_uri": "https://localhost:8080/"
        },
        "id": "6jHkBQsDW9MC",
        "outputId": "29a48c0a-6cff-4c1d-e303-77e27b75788c"
      },
      "outputs": [
        {
          "output_type": "stream",
          "name": "stdout",
          "text": [
            "Index:11\n"
          ]
        }
      ],
      "source": [
        "n=13\n",
        "ls=[1,2,3,4,5,6,6,7,8,9,11,13,16,90,1]\n",
        "c=0\n",
        "for i in range(len(ls)):\n",
        "  if n==ls[i]:\n",
        "    print(f'Index:{i}')\n",
        "    c=c+1\n",
        "    break\n",
        "  i=i+1\n",
        "if c==0:print('Does not exist')\n"
      ]
    },
    {
      "cell_type": "code",
      "source": [
        "ls.sort()\n",
        "print(ls)"
      ],
      "metadata": {
        "colab": {
          "base_uri": "https://localhost:8080/"
        },
        "id": "YEkn7Jqok8d9",
        "outputId": "85029fe2-885c-4b88-d6e8-ad8a91e16300"
      },
      "execution_count": 9,
      "outputs": [
        {
          "output_type": "stream",
          "name": "stdout",
          "text": [
            "[1, 1, 2, 3, 4, 5, 6, 6, 7, 8, 9, 11, 13, 16, 90]\n"
          ]
        }
      ]
    },
    {
      "cell_type": "code",
      "source": [
        "l=0\n",
        "\n",
        "r=len(ls)-1\n",
        "c=0\n",
        "while l<r:\n",
        "  m=(l+r)//2\n",
        "  if n==ls[m]: break\n",
        "  elif n<ls[m]: r=m-1\n",
        "  else: l=m+1\n",
        "  c+=1\n",
        "print (c)"
      ],
      "metadata": {
        "id": "iJ9Dm7xQhout",
        "colab": {
          "base_uri": "https://localhost:8080/"
        },
        "outputId": "560e238c-be8a-49d5-8a9b-c2da00838e7c"
      },
      "execution_count": 11,
      "outputs": [
        {
          "output_type": "stream",
          "name": "stdout",
          "text": [
            "3\n"
          ]
        }
      ]
    },
    {
      "cell_type": "code",
      "source": [
        "sum=0\n",
        "for i in range(len(ls)):\n",
        "    sum+=ls[i]\n",
        "print (sum)"
      ],
      "metadata": {
        "colab": {
          "base_uri": "https://localhost:8080/"
        },
        "id": "W4pOlOGiImot",
        "outputId": "da69e70d-29bf-429c-d84c-5e55f32d8f6d"
      },
      "execution_count": 13,
      "outputs": [
        {
          "output_type": "stream",
          "name": "stdout",
          "text": [
            "182\n"
          ]
        }
      ]
    },
    {
      "cell_type": "code",
      "source": [],
      "metadata": {
        "id": "hJoR6J8VI6h9"
      },
      "execution_count": null,
      "outputs": []
    }
  ]
}