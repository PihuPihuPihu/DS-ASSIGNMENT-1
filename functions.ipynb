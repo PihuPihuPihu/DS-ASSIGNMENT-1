{
  "nbformat": 4,
  "nbformat_minor": 0,
  "metadata": {
    "colab": {
      "provenance": []
    },
    "kernelspec": {
      "name": "python3",
      "display_name": "Python 3"
    },
    "language_info": {
      "name": "python"
    }
  },
  "cells": [
    {
      "cell_type": "code",
      "execution_count": null,
      "metadata": {
        "colab": {
          "base_uri": "https://localhost:8080/"
        },
        "id": "g1TwfD6yBuxW",
        "outputId": "43a4f59b-a86d-428f-f417-597ab56bf987"
      },
      "outputs": [
        {
          "output_type": "stream",
          "name": "stdout",
          "text": [
            "['I', 'J', 'W', 'T', 'B', 'p', 'o', 'a', 's']\n",
            "['M', 't', 'F', 'b', 'w', 'y']\n"
          ]
        }
      ],
      "source": [
        "quote=\"I JUS?T WANT TO BE part of a symPHONY\"\n",
        "def extract_1letters(sentence):\n",
        "  words=sentence.split(' ')\n",
        "  firstletter=[w[0] for w in words]\n",
        "  return firstletter\n",
        "print(extract_1letters(quote))\n",
        "q2=\"May the Force be with you...!\"\n",
        "print(extract_1letters(q2))"
      ]
    },
    {
      "cell_type": "code",
      "source": [
        "def fact(num):\n",
        "  f=1\n",
        "  if(num<0): return \"UNDEFINED\"\n",
        "  while(num>1):\n",
        "    f*=num\n",
        "    num=num-1\n",
        "  return f\n",
        "print(fact(3))\n",
        "print(fact(-4))"
      ],
      "metadata": {
        "colab": {
          "base_uri": "https://localhost:8080/"
        },
        "id": "ldPOm-O4DruR",
        "outputId": "2e622961-717e-4e3e-ee8f-08538fa5205b"
      },
      "execution_count": null,
      "outputs": [
        {
          "output_type": "stream",
          "name": "stdout",
          "text": [
            "6\n",
            "UNDEFINED\n"
          ]
        }
      ]
    },
    {
      "cell_type": "code",
      "source": [
        "nums=[1,4,5,9,10,20]\n",
        "flist=[fact(num) for num in nums]\n",
        "print(flist)\n",
        "flist=[fact(num) for num in nums if num%2!=0]\n",
        "print(flist)"
      ],
      "metadata": {
        "colab": {
          "base_uri": "https://localhost:8080/"
        },
        "id": "FaBCHhTPEeHh",
        "outputId": "83ddb254-a8d1-4439-a258-09bd9739044b"
      },
      "execution_count": null,
      "outputs": [
        {
          "output_type": "stream",
          "name": "stdout",
          "text": [
            "[1, 24, 120, 362880, 3628800, 2432902008176640000]\n",
            "[1, 120, 362880]\n"
          ]
        }
      ]
    },
    {
      "cell_type": "code",
      "source": [
        "def check(num):\n",
        "  print(f'Given number:{num}')\n",
        "  if(num%2==0): return 'even'\n",
        "  else:return 'odd'\n",
        "n=check(30)\n",
        "print(n)"
      ],
      "metadata": {
        "colab": {
          "base_uri": "https://localhost:8080/"
        },
        "id": "ZPj1HBn8FKPi",
        "outputId": "0b6683e5-735e-4576-b798-c3627d566251"
      },
      "execution_count": null,
      "outputs": [
        {
          "output_type": "stream",
          "name": "stdout",
          "text": [
            "Given number:30\n",
            "even\n"
          ]
        }
      ]
    },
    {
      "cell_type": "code",
      "source": [
        "def addtolist(lis,n):\n",
        "  nlis=lis+[n]\n",
        "  return nlis\n",
        "print (nums)\n",
        "print(addtolist(nums,500))\n"
      ],
      "metadata": {
        "colab": {
          "base_uri": "https://localhost:8080/"
        },
        "id": "W3H9gCmyF8mZ",
        "outputId": "651d2d99-bd83-4ab7-cd40-785d41d1e61a"
      },
      "execution_count": null,
      "outputs": [
        {
          "output_type": "stream",
          "name": "stdout",
          "text": [
            "[1, 4, 5, 9, 10, 20]\n",
            "[1, 4, 5, 9, 10, 20, 500]\n"
          ]
        }
      ]
    },
    {
      "cell_type": "code",
      "source": [
        "def exp():\n",
        "  global x\n",
        "  x=50\n",
        "  print(x)\n",
        "x=25\n",
        "print (x)\n",
        "exp()\n",
        "print(x)"
      ],
      "metadata": {
        "colab": {
          "base_uri": "https://localhost:8080/"
        },
        "id": "0JC7mfaMIOyg",
        "outputId": "043b403e-d505-473a-a815-1e3dd006966c"
      },
      "execution_count": null,
      "outputs": [
        {
          "output_type": "stream",
          "name": "stdout",
          "text": [
            "25\n",
            "50\n",
            "50\n"
          ]
        }
      ]
    }
  ]
}