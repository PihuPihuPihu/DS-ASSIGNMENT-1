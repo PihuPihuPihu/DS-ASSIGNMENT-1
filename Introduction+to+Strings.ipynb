{
  "nbformat": 4,
  "nbformat_minor": 0,
  "metadata": {
    "colab": {
      "provenance": []
    },
    "kernelspec": {
      "name": "python3",
      "display_name": "Python 3"
    },
    "language_info": {
      "name": "python"
    }
  },
  "cells": [
    {
      "cell_type": "code",
      "execution_count": 3,
      "metadata": {
        "colab": {
          "base_uri": "https://localhost:8080/"
        },
        "id": "aYCG5Khp87ke",
        "outputId": "0aebe1bf-f958-4c21-9539-6fd492eaa011"
      },
      "outputs": [
        {
          "output_type": "stream",
          "name": "stdout",
          "text": [
            "algebra\n",
            "\n",
            "I\"m me\n",
            "#\n"
          ]
        },
        {
          "output_type": "execute_result",
          "data": {
            "text/plain": [
              "str"
            ]
          },
          "metadata": {},
          "execution_count": 3
        }
      ],
      "source": [
        "#basic\n",
        "s=\"algebra\"\n",
        "print(s)\n",
        "str=\"\\nI\\\"m me]\"\n",
        "print(str)\n",
        "hast=\"#\"\n",
        "print(hast)\n",
        "type(hast)"
      ]
    },
    {
      "cell_type": "code",
      "source": [
        "#operations\n",
        "a=\"Namaste Sansar\"\n",
        "b=\" YES\"\n",
        "print(a)\n",
        "print(a[-2])#reverse indexing\n",
        "print(a[3])#zero indexing\n",
        "#slicing\n",
        "print(a[1:])\n",
        "print(a[3:5])\n",
        "print(a[:])\n",
        "print(a[-1:-4])\n",
        "print(a[-4:-1])\n",
        "print(a[::3])\n",
        "print(a[0::-2])\n",
        "print(a+b)\n",
        "c=a+b\n",
        "print(c)\n",
        "print (a*2)"
      ],
      "metadata": {
        "colab": {
          "base_uri": "https://localhost:8080/"
        },
        "id": "khRzQgjkZ_IJ",
        "outputId": "f9d44787-8359-45fc-838f-0fe8a740a92e"
      },
      "execution_count": 7,
      "outputs": [
        {
          "output_type": "stream",
          "name": "stdout",
          "text": [
            "Namaste Sansar\n",
            "a\n",
            "a\n",
            "amaste Sansar\n",
            "as\n",
            "Namaste Sansar\n",
            "\n",
            "nsa\n",
            "Naeaa\n",
            "N\n",
            "Namaste Sansar YES\n",
            "Namaste Sansar YES\n",
            "Namaste SansarNamaste Sansar\n",
            " yes\n",
            "NAMASTE SANSAR\n"
          ]
        }
      ]
    },
    {
      "cell_type": "code",
      "source": [
        "#functions\n",
        "print(b.lower())\n",
        "print(a.upper())\n",
        "len(a)\n",
        "print(a.count('sa'))\n",
        "print(a.count('Sa'))\n",
        "print(a.count('sA'))\n",
        "print(a.find('a')) #index of first occurance\n",
        "print(b.find('X'))\n",
        "print(a.replace('a','@'))\n",
        "print(a)\n",
        "print('No' in b)\n",
        "'YES' in b\n"
      ],
      "metadata": {
        "colab": {
          "base_uri": "https://localhost:8080/"
        },
        "id": "hqGxOZ5GcR9H",
        "outputId": "e40919e3-41aa-4031-c092-41355d26c4cd"
      },
      "execution_count": 20,
      "outputs": [
        {
          "output_type": "stream",
          "name": "stdout",
          "text": [
            " yes\n",
            "NAMASTE SANSAR\n",
            "1\n",
            "1\n",
            "0\n",
            "1\n",
            "-1\n",
            "N@m@ste S@ns@r\n",
            "Namaste Sansar\n",
            "False\n"
          ]
        },
        {
          "output_type": "execute_result",
          "data": {
            "text/plain": [
              "True"
            ]
          },
          "metadata": {},
          "execution_count": 20
        }
      ]
    }
  ]
}