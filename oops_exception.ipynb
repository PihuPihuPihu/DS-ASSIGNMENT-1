{
  "nbformat": 4,
  "nbformat_minor": 0,
  "metadata": {
    "colab": {
      "provenance": []
    },
    "kernelspec": {
      "name": "python3",
      "display_name": "Python 3"
    },
    "language_info": {
      "name": "python"
    }
  },
  "cells": [
    {
      "cell_type": "code",
      "execution_count": null,
      "metadata": {
        "colab": {
          "base_uri": "https://localhost:8080/"
        },
        "id": "N1c7p4cVIyh4",
        "outputId": "73eff865-adeb-418d-e5d7-ea53c67a07df"
      },
      "outputs": [
        {
          "output_type": "execute_result",
          "data": {
            "text/plain": [
              "[]"
            ]
          },
          "metadata": {},
          "execution_count": 1
        }
      ],
      "source": [
        "l=[]\n",
        "l"
      ]
    },
    {
      "cell_type": "code",
      "source": [
        "l2=list()\n",
        "l2"
      ],
      "metadata": {
        "colab": {
          "base_uri": "https://localhost:8080/"
        },
        "id": "VatPL_0HJftq",
        "outputId": "d10b495b-312b-4b31-a7ed-db26f9d758e5"
      },
      "execution_count": null,
      "outputs": [
        {
          "output_type": "execute_result",
          "data": {
            "text/plain": [
              "[]"
            ]
          },
          "metadata": {},
          "execution_count": 2
        }
      ]
    },
    {
      "cell_type": "code",
      "source": [
        "l2.append(1)\n",
        "l2.append(3)\n",
        "l2.append([4,5,6,7])\n",
        "l2"
      ],
      "metadata": {
        "colab": {
          "base_uri": "https://localhost:8080/"
        },
        "id": "DjOGTg51JnGQ",
        "outputId": "058064e0-e58b-4ca7-a48f-018ad020103f"
      },
      "execution_count": null,
      "outputs": [
        {
          "output_type": "execute_result",
          "data": {
            "text/plain": [
              "[1, 3, 1, 3, [4, 5, 6, 7]]"
            ]
          },
          "metadata": {},
          "execution_count": 4
        }
      ]
    },
    {
      "cell_type": "code",
      "source": [
        "l2.index(3)"
      ],
      "metadata": {
        "colab": {
          "base_uri": "https://localhost:8080/"
        },
        "id": "IRTQKpcvKa9j",
        "outputId": "597a5754-69e0-49ae-c5c6-7191eede4fd1"
      },
      "execution_count": null,
      "outputs": [
        {
          "output_type": "execute_result",
          "data": {
            "text/plain": [
              "1"
            ]
          },
          "metadata": {},
          "execution_count": 5
        }
      ]
    },
    {
      "cell_type": "code",
      "source": [
        "#everything is an object\n",
        "sixth=6\n",
        "print(type(sixth))\n",
        "print(type(l2))"
      ],
      "metadata": {
        "colab": {
          "base_uri": "https://localhost:8080/"
        },
        "id": "a3LMOKvHKdei",
        "outputId": "f42d2b86-85ff-4e19-b0bb-e5fbdfee90ef"
      },
      "execution_count": null,
      "outputs": [
        {
          "output_type": "stream",
          "name": "stdout",
          "text": [
            "<class 'int'>\n",
            "<class 'list'>\n"
          ]
        }
      ]
    },
    {
      "cell_type": "code",
      "source": [
        "#CLASSES\n",
        "class MYCLASS:\n",
        "  pass\n",
        "x=MYCLASS()\n",
        "print(type(x))\n",
        "y=MYCLASS()\n",
        "print(type(y))"
      ],
      "metadata": {
        "colab": {
          "base_uri": "https://localhost:8080/"
        },
        "id": "qdKXN_EcK1Oh",
        "outputId": "584245d8-dde7-40d6-efd6-2b7edac19487"
      },
      "execution_count": null,
      "outputs": [
        {
          "output_type": "stream",
          "name": "stdout",
          "text": [
            "<class '__main__.MYCLASS'>\n",
            "<class '__main__.MYCLASS'>\n"
          ]
        }
      ]
    },
    {
      "cell_type": "code",
      "source": [
        "class Dog:\n",
        "  def __init__(self,color,name):\n",
        "    self.color_attr=color\n",
        "    self.name_attri=name\n",
        "Pihu_dog=Dog(color=\"WHITE\",name=\"Jemma\")\n",
        "Ayushi_dog=Dog(color=\"GOLDEN\",name=\"Sparky\")\n",
        "print(Ayushi_dog.name_attri)\n",
        "print(Pihu_dog.name_attri)"
      ],
      "metadata": {
        "colab": {
          "base_uri": "https://localhost:8080/"
        },
        "id": "Htb33qGSLaz7",
        "outputId": "a0c0db1a-8ff5-4647-f0d2-aa5c404f3be3"
      },
      "execution_count": null,
      "outputs": [
        {
          "output_type": "stream",
          "name": "stdout",
          "text": [
            "Sparky\n",
            "Jemma\n"
          ]
        }
      ]
    },
    {
      "cell_type": "code",
      "source": [
        "class Circle:\n",
        "  def __init__(self, r=1):\n",
        "    self.r=r\n",
        "    self.area=3.14*r*r\n",
        "c=Circle()\n",
        "c.area"
      ],
      "metadata": {
        "colab": {
          "base_uri": "https://localhost:8080/"
        },
        "id": "g7c-u4mPMrMY",
        "outputId": "2dcc6ba8-fd34-4af4-adfe-554d492b53a4"
      },
      "execution_count": null,
      "outputs": [
        {
          "output_type": "execute_result",
          "data": {
            "text/plain": [
              "3.14"
            ]
          },
          "metadata": {},
          "execution_count": 15
        }
      ]
    },
    {
      "cell_type": "code",
      "source": [
        "try:\n",
        "  print(nononono)\n",
        "  print(\"YESYEYSYES\")\n",
        "except:\n",
        "  print(\"OOPS! FIX IT\")\n",
        "  print(\"Yesyes\")\n",
        "try:\n",
        "  print(\"YESYEYSYES\")\n",
        "  print(nononono)\n",
        "except:\n",
        "  print(\"OOPS! FIX IT\")\n",
        "  print(\"Yesyes\")\n",
        "  #finally always runs"
      ],
      "metadata": {
        "colab": {
          "base_uri": "https://localhost:8080/"
        },
        "id": "pHQ5jJUZNx3B",
        "outputId": "e74605ec-c001-4778-fea3-33d9baa189f7"
      },
      "execution_count": null,
      "outputs": [
        {
          "output_type": "stream",
          "name": "stdout",
          "text": [
            "OOPS! FIX IT\n",
            "Yesyes\n",
            "YESYEYSYES\n",
            "OOPS! FIX IT\n",
            "Yesyes\n"
          ]
        }
      ]
    }
  ]
}