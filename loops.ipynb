{
  "nbformat": 4,
  "nbformat_minor": 0,
  "metadata": {
    "colab": {
      "provenance": []
    },
    "kernelspec": {
      "name": "python3",
      "display_name": "Python 3"
    },
    "language_info": {
      "name": "python"
    }
  },
  "cells": [
    {
      "cell_type": "code",
      "execution_count": 4,
      "metadata": {
        "colab": {
          "base_uri": "https://localhost:8080/"
        },
        "id": "5goR9Vzdkvj-",
        "outputId": "365f4272-5d8f-48f9-b5c2-6f6d1b8e4fd8"
      },
      "outputs": [
        {
          "output_type": "stream",
          "name": "stdout",
          "text": [
            "House Stark\n",
            "House Lannister\n",
            "House Targaryen\n",
            "House Baratheon\n",
            "House Greyjoy\n",
            "House Martell\n",
            "House Arryn\n",
            "House Tully\n",
            "House Tyrell\n"
          ]
        }
      ],
      "source": [
        "great_houses=['Stark','Lannister','Targaryen','Baratheon','Greyjoy','Martell','Arryn','Tully','Tyrell']\n",
        "for house in great_houses:\n",
        "  print(f\"House {house}\")"
      ]
    },
    {
      "cell_type": "code",
      "source": [
        "for number,house in enumerate(great_houses):\n",
        "  print(f\"The house number of house {house} is {number}\")"
      ],
      "metadata": {
        "colab": {
          "base_uri": "https://localhost:8080/"
        },
        "id": "v52qbO28pamJ",
        "outputId": "6503cd29-3645-4d7d-c53d-3c1359c843aa"
      },
      "execution_count": 5,
      "outputs": [
        {
          "output_type": "stream",
          "name": "stdout",
          "text": [
            "The house number of house Stark is 0\n",
            "The house number of house Lannister is 1\n",
            "The house number of house Targaryen is 2\n",
            "The house number of house Baratheon is 3\n",
            "The house number of house Greyjoy is 4\n",
            "The house number of house Martell is 5\n",
            "The house number of house Arryn is 6\n",
            "The house number of house Tully is 7\n",
            "The house number of house Tyrell is 8\n"
          ]
        }
      ]
    },
    {
      "cell_type": "code",
      "source": [
        "list_numbers=[2,4,6,8,10]\n",
        "for number in list_numbers:\n",
        "  square=number**2\n",
        "  print(f\"Square of {number} is {square}\")"
      ],
      "metadata": {
        "colab": {
          "base_uri": "https://localhost:8080/"
        },
        "id": "XDVXyEYQpg0j",
        "outputId": "28e1b35a-548b-4755-c646-af706402aa32"
      },
      "execution_count": 6,
      "outputs": [
        {
          "output_type": "stream",
          "name": "stdout",
          "text": [
            "Square of 2 is 4\n",
            "Square of 4 is 16\n",
            "Square of 6 is 36\n",
            "Square of 8 is 64\n",
            "Square of 10 is 100\n"
          ]
        }
      ]
    },
    {
      "cell_type": "code",
      "source": [
        "list_numbers=[2,4,6,8,10]\n",
        "square_of_numbers=[]\n",
        "for number in list_numbers:\n",
        "  square=number**2\n",
        "  square_of_numbers.append(square)\n",
        "print(f\"List of square of numbers is {square_of_numbers}\")"
      ],
      "metadata": {
        "colab": {
          "base_uri": "https://localhost:8080/"
        },
        "id": "NB1SjkpzpjFJ",
        "outputId": "9be546ad-c6e7-4449-e3d1-888488571681"
      },
      "execution_count": 7,
      "outputs": [
        {
          "output_type": "stream",
          "name": "stdout",
          "text": [
            "List of square of numbers is [4, 16, 36, 64, 100]\n"
          ]
        }
      ]
    },
    {
      "cell_type": "code",
      "source": [
        "zipped_dict=dict(zip(list_numbers,square_of_numbers))\n",
        "print(zipped_dict)\n",
        ""
      ],
      "metadata": {
        "colab": {
          "base_uri": "https://localhost:8080/"
        },
        "id": "L3wxk0OupnDu",
        "outputId": "5808ebd9-bf5f-4a0d-d086-23d21790bceb"
      },
      "execution_count": 8,
      "outputs": [
        {
          "output_type": "stream",
          "name": "stdout",
          "text": [
            "{2: 4, 4: 16, 6: 36, 8: 64, 10: 100}\n"
          ]
        }
      ]
    },
    {
      "cell_type": "code",
      "source": [
        "list1_numbers=[1,2,4,5,6,7,8,9,10]\n",
        "for number in list1_numbers:\n",
        "  if number%2==0:\n",
        "    square=number**2\n",
        "    print(f\"Square of {number} is {square}\")\n",
        "  else:\n",
        "    print(\"Odd number\")\n",
        ""
      ],
      "metadata": {
        "colab": {
          "base_uri": "https://localhost:8080/"
        },
        "id": "xu2NDBSLpr_9",
        "outputId": "50ab3d05-f7fc-4985-8d75-9c9e32977979"
      },
      "execution_count": 9,
      "outputs": [
        {
          "output_type": "stream",
          "name": "stdout",
          "text": [
            "Odd number\n",
            "Square of 2 is 4\n",
            "Square of 4 is 16\n",
            "Odd number\n",
            "Square of 6 is 36\n",
            "Odd number\n",
            "Square of 8 is 64\n",
            "Odd number\n",
            "Square of 10 is 100\n"
          ]
        }
      ]
    },
    {
      "cell_type": "code",
      "source": [
        "for number in range(1,11,2):\n",
        "  square=number**2\n",
        "  print(f\"Square of {number} is  {square}\")"
      ],
      "metadata": {
        "colab": {
          "base_uri": "https://localhost:8080/"
        },
        "id": "bU9EaS2QpugO",
        "outputId": "b386e6d9-44f0-48cd-9a9b-104a1a88abfb"
      },
      "execution_count": 10,
      "outputs": [
        {
          "output_type": "stream",
          "name": "stdout",
          "text": [
            "Square of 1 is  1\n",
            "Square of 3 is  9\n",
            "Square of 5 is  25\n",
            "Square of 7 is  49\n",
            "Square of 9 is  81\n"
          ]
        }
      ]
    },
    {
      "cell_type": "code",
      "source": [
        "for i in range(1,10,2):\n",
        "  print(i)"
      ],
      "metadata": {
        "colab": {
          "base_uri": "https://localhost:8080/"
        },
        "id": "syOizMoWpx2i",
        "outputId": "cc14dbac-5611-47e5-8943-7616d99b4345"
      },
      "execution_count": 11,
      "outputs": [
        {
          "output_type": "stream",
          "name": "stdout",
          "text": [
            "1\n",
            "3\n",
            "5\n",
            "7\n",
            "9\n"
          ]
        }
      ]
    },
    {
      "cell_type": "code",
      "source": [
        "sum_of_squares=0\n",
        "for num in range(1,20):\n",
        "  sum_of_squares = sum_of_squares + num**2\n",
        "print(f\"Sum of squares of 20 numbers is {sum_of_squares}\")"
      ],
      "metadata": {
        "colab": {
          "base_uri": "https://localhost:8080/"
        },
        "id": "v87OK-D7pzrS",
        "outputId": "e889ea8c-16e6-441f-890f-72103d8b00c6"
      },
      "execution_count": 12,
      "outputs": [
        {
          "output_type": "stream",
          "name": "stdout",
          "text": [
            "Sum of squares of 20 numbers is 2470\n"
          ]
        }
      ]
    },
    {
      "cell_type": "code",
      "source": [
        "my_string='Hello World'\n",
        "for index,char in enumerate(my_string):\n",
        "  print(f\"The index is {index} and the character is {char}\")"
      ],
      "metadata": {
        "colab": {
          "base_uri": "https://localhost:8080/"
        },
        "id": "huQKXsLip2E2",
        "outputId": "5d1d25f4-fae4-4357-c01d-c5fee21e0541"
      },
      "execution_count": 13,
      "outputs": [
        {
          "output_type": "stream",
          "name": "stdout",
          "text": [
            "The index is 0 and the character is H\n",
            "The index is 1 and the character is e\n",
            "The index is 2 and the character is l\n",
            "The index is 3 and the character is l\n",
            "The index is 4 and the character is o\n",
            "The index is 5 and the character is  \n",
            "The index is 6 and the character is W\n",
            "The index is 7 and the character is o\n",
            "The index is 8 and the character is r\n",
            "The index is 9 and the character is l\n",
            "The index is 10 and the character is d\n"
          ]
        }
      ]
    },
    {
      "cell_type": "code",
      "source": [
        "my_string='Hello World'\n",
        "split_string=my_string.split(' ')\n",
        "print(split_string)"
      ],
      "metadata": {
        "colab": {
          "base_uri": "https://localhost:8080/"
        },
        "id": "c1-0qnngp4u6",
        "outputId": "41f378f8-4ceb-49e5-976e-8ac774f51e4a"
      },
      "execution_count": 14,
      "outputs": [
        {
          "output_type": "stream",
          "name": "stdout",
          "text": [
            "['Hello', 'World']\n"
          ]
        }
      ]
    },
    {
      "cell_type": "code",
      "source": [
        "for string in split_string:\n",
        "  print(f\"The word in string is {string}\")"
      ],
      "metadata": {
        "colab": {
          "base_uri": "https://localhost:8080/"
        },
        "id": "BWCRtCwdp7cT",
        "outputId": "9bfb1b4f-716b-4a97-a00a-769d00a9f8f5"
      },
      "execution_count": 15,
      "outputs": [
        {
          "output_type": "stream",
          "name": "stdout",
          "text": [
            "The word in string is Hello\n",
            "The word in string is World\n"
          ]
        }
      ]
    },
    {
      "cell_type": "code",
      "source": [
        "country_city_river_list=[('India','New Delhi','Ganga'),('Australia','Canberra','Rovers'),('United States','Washington DC','Missouri')]\n",
        "for country,city,river in country_city_river_list:\n",
        "  print(f\"The capital of the country {country} is {city} and it also has river {river}\")"
      ],
      "metadata": {
        "colab": {
          "base_uri": "https://localhost:8080/"
        },
        "id": "V83U6x-1p916",
        "outputId": "43059511-efa1-4129-9ecb-290401daf2e7"
      },
      "execution_count": 16,
      "outputs": [
        {
          "output_type": "stream",
          "name": "stdout",
          "text": [
            "The capital of the country India is New Delhi and it also has river Ganga\n",
            "The capital of the country Australia is Canberra and it also has river Rovers\n",
            "The capital of the country United States is Washington DC and it also has river Missouri\n"
          ]
        }
      ]
    },
    {
      "cell_type": "code",
      "source": [
        "country_city_dict={1:'India',2:'USA'}\n",
        "for item in country_city_dict:\n",
        "  print(item,country_city_dict[item])"
      ],
      "metadata": {
        "colab": {
          "base_uri": "https://localhost:8080/"
        },
        "id": "w3nGq7wfqBGG",
        "outputId": "9e02b811-c641-49ff-ef3e-c7974ff0e217"
      },
      "execution_count": 17,
      "outputs": [
        {
          "output_type": "stream",
          "name": "stdout",
          "text": [
            "1 India\n",
            "2 USA\n"
          ]
        }
      ]
    },
    {
      "cell_type": "code",
      "source": [
        "country_city_dict.items()"
      ],
      "metadata": {
        "colab": {
          "base_uri": "https://localhost:8080/"
        },
        "id": "KfEzEeBHqDE9",
        "outputId": "440abcdb-36f0-497f-c6ef-9da2f0732e5d"
      },
      "execution_count": 18,
      "outputs": [
        {
          "output_type": "execute_result",
          "data": {
            "text/plain": [
              "dict_items([(1, 'India'), (2, 'USA')])"
            ]
          },
          "metadata": {},
          "execution_count": 18
        }
      ]
    },
    {
      "cell_type": "code",
      "source": [
        "x=0\n",
        "while x<10:\n",
        "  print(f'x is currently:{x}')\n",
        "  print('x is still less than 10, adding 1 to x')\n",
        "  x=x+1"
      ],
      "metadata": {
        "colab": {
          "base_uri": "https://localhost:8080/"
        },
        "id": "RyDbYAzuqF6Y",
        "outputId": "f388b65e-e994-4cb3-e92e-b85931f76e7c"
      },
      "execution_count": 2,
      "outputs": [
        {
          "output_type": "stream",
          "name": "stdout",
          "text": [
            "x is currently:0\n",
            "x is still less than 10, adding 1 to x\n",
            "x is currently:1\n",
            "x is still less than 10, adding 1 to x\n",
            "x is currently:2\n",
            "x is still less than 10, adding 1 to x\n",
            "x is currently:3\n",
            "x is still less than 10, adding 1 to x\n",
            "x is currently:4\n",
            "x is still less than 10, adding 1 to x\n",
            "x is currently:5\n",
            "x is still less than 10, adding 1 to x\n",
            "x is currently:6\n",
            "x is still less than 10, adding 1 to x\n",
            "x is currently:7\n",
            "x is still less than 10, adding 1 to x\n",
            "x is currently:8\n",
            "x is still less than 10, adding 1 to x\n",
            "x is currently:9\n",
            "x is still less than 10, adding 1 to x\n"
          ]
        }
      ]
    },
    {
      "cell_type": "code",
      "source": [
        "x=3\n",
        "while x<10:\n",
        "  if x==3:\n",
        "    print('x==3')\n",
        "    x+=1\n",
        "    continue\n",
        "  else:\n",
        "    break"
      ],
      "metadata": {
        "colab": {
          "base_uri": "https://localhost:8080/"
        },
        "id": "Q2yNT2iZqI_9",
        "outputId": "6c3ba381-f6d3-4d31-f814-a99b34a1e0fa"
      },
      "execution_count": 1,
      "outputs": [
        {
          "output_type": "stream",
          "name": "stdout",
          "text": [
            "x==3\n"
          ]
        }
      ]
    }
  ]
}