{
  "nbformat": 4,
  "nbformat_minor": 0,
  "metadata": {
    "colab": {
      "provenance": [],
      "authorship_tag": "ABX9TyOm73noFcgzrq3W1h6RI/Xh",
      "include_colab_link": true
    },
    "kernelspec": {
      "name": "python3",
      "display_name": "Python 3"
    },
    "language_info": {
      "name": "python"
    }
  },
  "cells": [
    {
      "cell_type": "markdown",
      "metadata": {
        "id": "view-in-github",
        "colab_type": "text"
      },
      "source": [
        "<a href=\"https://colab.research.google.com/github/PihuPihuPihu/DS-ASSIGNMENT-1/blob/main/integer%2Bfloat%2Bbool.ipynb\" target=\"_parent\"><img src=\"https://colab.research.google.com/assets/colab-badge.svg\" alt=\"Open In Colab\"/></a>"
      ]
    },
    {
      "cell_type": "code",
      "execution_count": null,
      "metadata": {
        "id": "CFXjdZYxw7J5"
      },
      "outputs": [],
      "source": []
    },
    {
      "cell_type": "code",
      "source": [
        "#basic operations\n",
        "print(2+1)\n",
        "print(2-5)\n",
        "print(2*2)\n",
        "print(3/2)\n",
        "print(7//3)\n",
        "print(2**5)\n",
        "print(15%6)\n",
        "print(2+10*10+3)\n",
        "print(2+10*(10+3))"
      ],
      "metadata": {
        "colab": {
          "base_uri": "https://localhost:8080/"
        },
        "id": "UgSTAnKkxEjT",
        "outputId": "7d2d6032-218b-43fe-e657-462a4362ed01"
      },
      "execution_count": 4,
      "outputs": [
        {
          "output_type": "stream",
          "name": "stdout",
          "text": [
            "3\n",
            "-3\n",
            "4\n",
            "1.5\n",
            "2\n",
            "32\n",
            "3\n",
            "105\n",
            "132\n"
          ]
        }
      ]
    },
    {
      "cell_type": "code",
      "source": [
        "# variables\n",
        "x=5\n",
        "print(x)\n",
        "y=6.4\n",
        "print(y)\n",
        "z=x+y\n",
        "print(z)\n",
        "z=x-y\n",
        "print(z)\n",
        "print(type(y))\n",
        "z=x*y\n",
        "print(z)\n",
        "type(z)\n",
        "z=x/y\n",
        "print(z)\n",
        "type(z)\n",
        "z=x//y\n",
        "print(z)\n",
        "type(z)\n"
      ],
      "metadata": {
        "colab": {
          "base_uri": "https://localhost:8080/"
        },
        "id": "EwoxBJaPyDlu",
        "outputId": "581f12be-087c-4b18-e229-636ed8591204"
      },
      "execution_count": 6,
      "outputs": [
        {
          "output_type": "stream",
          "name": "stdout",
          "text": [
            "5\n",
            "6.4\n",
            "11.4\n",
            "-1.4000000000000004\n",
            "<class 'float'>\n",
            "32.0\n",
            "0.78125\n",
            "0.0\n"
          ]
        },
        {
          "output_type": "execute_result",
          "data": {
            "text/plain": [
              "float"
            ]
          },
          "metadata": {},
          "execution_count": 6
        }
      ]
    },
    {
      "cell_type": "code",
      "source": [
        "#comparison operators and boolean values\n",
        "bvar=False\n",
        "type(bvar)\n",
        "print(bvar)\n",
        "print(2==3)\n",
        "print(2==0)\n",
        "print(2!=0)\n",
        "print(2!=2)\n",
        "a=3\n",
        "b=2\n",
        "print(a>b)\n",
        "print(a==b)\n",
        "print(a<b)\n",
        "print(3<=0)\n",
        "print(1<=2)"
      ],
      "metadata": {
        "colab": {
          "base_uri": "https://localhost:8080/"
        },
        "id": "5dfYesCf0SNK",
        "outputId": "60b2c5bc-468e-499e-bf44-320144e134c1"
      },
      "execution_count": 7,
      "outputs": [
        {
          "output_type": "stream",
          "name": "stdout",
          "text": [
            "False\n",
            "False\n",
            "False\n",
            "True\n",
            "False\n",
            "True\n",
            "False\n",
            "False\n",
            "False\n",
            "True\n"
          ]
        }
      ]
    }
  ]
}