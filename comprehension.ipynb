{
  "nbformat": 4,
  "nbformat_minor": 0,
  "metadata": {
    "colab": {
      "provenance": []
    },
    "kernelspec": {
      "name": "python3",
      "display_name": "Python 3"
    },
    "language_info": {
      "name": "python"
    }
  },
  "cells": [
    {
      "cell_type": "code",
      "execution_count": 1,
      "metadata": {
        "id": "wmgCXgdAhtsO",
        "colab": {
          "base_uri": "https://localhost:8080/"
        },
        "outputId": "7ecd07a3-374f-465c-96d9-6ecd360b6983"
      },
      "outputs": [
        {
          "output_type": "stream",
          "name": "stdout",
          "text": [
            "[4, 9, 16, 25, 49, 81]\n"
          ]
        }
      ],
      "source": [
        "list_numbers=[2,3,4,5,7,9]\n",
        "squared_numbers=[number**2 for number in list_numbers]\n",
        "print(squared_numbers)"
      ]
    },
    {
      "cell_type": "code",
      "source": [
        "even_squared_numbers=[number**2 for number in list_numbers if number%2==0]\n",
        "print(even_squared_numbers)\n",
        "odd_squared_numbers=[number**2 for number in list_numbers if number%2!=0]\n",
        "print(odd_squared_numbers)\n",
        "list_numbers=[2,3,4,5,7,9]\n",
        "square_cube_numbers=[number**2 if number%2!=0 else number**3 for number in list_numbers]\n",
        "print(square_cube_numbers)\n",
        "list_numbers=[num2 for num1 in range(4) for num2 in range(3)]\n",
        "print(list_numbers)\n",
        "list_of_lists=[]\n",
        "for num1 in range(4):\n",
        "  list_of_lists.append([])\n",
        "  for num2 in range(3):\n",
        "    list_of_lists[num1].append(num2)\n",
        "print(list_of_lists)\n",
        "list_of_lists=[[num2 for num2 in range(3)] for num1 in range(4)]\n",
        "print(list_of_lists)"
      ],
      "metadata": {
        "colab": {
          "base_uri": "https://localhost:8080/"
        },
        "id": "FNnGXBv7LQsU",
        "outputId": "5a14e90b-6c63-41ac-e842-5260223fcbf7"
      },
      "execution_count": 2,
      "outputs": [
        {
          "output_type": "stream",
          "name": "stdout",
          "text": [
            "[4, 16]\n",
            "[9, 25, 49, 81]\n",
            "[8, 9, 64, 25, 49, 81]\n",
            "[0, 1, 2, 0, 1, 2, 0, 1, 2, 0, 1, 2]\n",
            "[[0, 1, 2], [0, 1, 2], [0, 1, 2], [0, 1, 2]]\n",
            "[[0, 1, 2], [0, 1, 2], [0, 1, 2], [0, 1, 2]]\n"
          ]
        }
      ]
    },
    {
      "cell_type": "code",
      "source": [
        "list_of_lists=[]\n",
        "for num1 in range(4):\n",
        "  list_of_lists.append([])\n",
        "  for num2 in range(3):\n",
        "    list_of_lists[num1].append(num1)\n",
        "print(list_of_lists)\n",
        "list_of_lists=[[num1 for num2 in range(3)] for num1 in range(4)]\n",
        "print(list_of_lists)\n",
        "my_string='Data Scientist and Data Analyst'\n",
        "my_string1=my_string.split(' ')\n",
        "first_letters=[]\n",
        "for word in my_string:\n",
        "  first_letters.append(word[0])\n",
        "print(first_letters)\n",
        "first_letters=[word[0] for word in my_string]\n",
        "print(first_letters)"
      ],
      "metadata": {
        "colab": {
          "base_uri": "https://localhost:8080/"
        },
        "id": "z93qpSr0N7f_",
        "outputId": "d1e7a174-f82e-4180-a01f-7e15a5292571"
      },
      "execution_count": 3,
      "outputs": [
        {
          "output_type": "stream",
          "name": "stdout",
          "text": [
            "[[0, 0, 0], [1, 1, 1], [2, 2, 2], [3, 3, 3]]\n",
            "[[0, 0, 0], [1, 1, 1], [2, 2, 2], [3, 3, 3]]\n",
            "['D', 'a', 't', 'a', ' ', 'S', 'c', 'i', 'e', 'n', 't', 'i', 's', 't', ' ', 'a', 'n', 'd', ' ', 'D', 'a', 't', 'a', ' ', 'A', 'n', 'a', 'l', 'y', 's', 't']\n",
            "['D', 'a', 't', 'a', ' ', 'S', 'c', 'i', 'e', 'n', 't', 'i', 's', 't', ' ', 'a', 'n', 'd', ' ', 'D', 'a', 't', 'a', ' ', 'A', 'n', 'a', 'l', 'y', 's', 't']\n"
          ]
        }
      ]
    },
    {
      "cell_type": "code",
      "source": [
        "days=('Monday','Tuesday','Wednesday','Thursday','Friday','Saturday')\n",
        "tuple(day for day in days)"
      ],
      "metadata": {
        "colab": {
          "base_uri": "https://localhost:8080/"
        },
        "id": "d5sU4daOOJx0",
        "outputId": "3af215b7-22e5-4e6d-ab47-bec4cc656fb2"
      },
      "execution_count": 4,
      "outputs": [
        {
          "output_type": "execute_result",
          "data": {
            "text/plain": [
              "('Monday', 'Tuesday', 'Wednesday', 'Thursday', 'Friday', 'Saturday')"
            ]
          },
          "metadata": {},
          "execution_count": 4
        }
      ]
    },
    {
      "cell_type": "code",
      "source": [
        "days_in_short=tuple([day[:3] for day in days])\n",
        "print(days_in_short)"
      ],
      "metadata": {
        "colab": {
          "base_uri": "https://localhost:8080/"
        },
        "id": "K6u9jrHUOL64",
        "outputId": "331a7ca5-6998-4bdb-e602-a10bb7e9a4bd"
      },
      "execution_count": 5,
      "outputs": [
        {
          "output_type": "stream",
          "name": "stdout",
          "text": [
            "('Mon', 'Tue', 'Wed', 'Thu', 'Fri', 'Sat')\n"
          ]
        }
      ]
    },
    {
      "cell_type": "code",
      "source": [
        "first_letters={word[0] for word in my_string}\n",
        "print(first_letters)\n",
        "country_city_dict={'India':'New Delhi','Australia':'Canberra','United States':'Washington DC','England':'London'}\n",
        "flipped={}\n",
        "for country,city in country_city_dict.items():\n",
        "  flipped[city]=country\n",
        "print(flipped)\n",
        "flipped={city:country for country,city in country_city_dict.items()}\n",
        "print(flipped)"
      ],
      "metadata": {
        "colab": {
          "base_uri": "https://localhost:8080/"
        },
        "id": "oT2e1LLOOOfJ",
        "outputId": "5049e2bb-2294-4f35-d524-4bcf484a72ad"
      },
      "execution_count": 7,
      "outputs": [
        {
          "output_type": "stream",
          "name": "stdout",
          "text": [
            "{'A', 'e', 'a', 's', ' ', 'i', 'l', 'c', 'S', 't', 'd', 'y', 'n', 'D'}\n",
            "{'New Delhi': 'India', 'Canberra': 'Australia', 'Washington DC': 'United States', 'London': 'England'}\n",
            "{'New Delhi': 'India', 'Canberra': 'Australia', 'Washington DC': 'United States', 'London': 'England'}\n"
          ]
        }
      ]
    }
  ]
}