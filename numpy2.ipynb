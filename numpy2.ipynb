{
  "nbformat": 4,
  "nbformat_minor": 0,
  "metadata": {
    "colab": {
      "provenance": []
    },
    "kernelspec": {
      "name": "python3",
      "display_name": "Python 3"
    },
    "language_info": {
      "name": "python"
    }
  },
  "cells": [
    {
      "cell_type": "code",
      "source": [
        "import numpy as np\n",
        "import pandas as pd\n",
        "a=np.array([[10,20,30],[20,30,40],[30,40,50]])\n",
        "print(a)\n",
        "print(a.shape) #returns array dimensions in a tuple form"
      ],
      "metadata": {
        "colab": {
          "base_uri": "https://localhost:8080/"
        },
        "id": "O9uBXgv3MyMV",
        "outputId": "d3d07858-1d5a-41c9-ef05-ac3f6eca4d80"
      },
      "execution_count": 3,
      "outputs": [
        {
          "output_type": "stream",
          "name": "stdout",
          "text": [
            "[[10 20 30]\n",
            " [20 30 40]\n",
            " [30 40 50]]\n",
            "(3, 3)\n"
          ]
        }
      ]
    },
    {
      "cell_type": "code",
      "execution_count": null,
      "metadata": {
        "id": "G9y7P9rdLjFQ"
      },
      "outputs": [],
      "source": []
    },
    {
      "cell_type": "code",
      "source": [
        "print('THE DIMENSIONS',a.ndim)\n",
        "print('THE SIZE',a.size)\n",
        "print('THE TYPE',a.dtype)\n",
        "print('AFTER CHANGING THE TYPE',a.astype('string_'))"
      ],
      "metadata": {
        "colab": {
          "base_uri": "https://localhost:8080/"
        },
        "id": "dStHbvCbOqiy",
        "outputId": "b5961e06-7708-47de-fe3c-33408a0bcdaa"
      },
      "execution_count": 4,
      "outputs": [
        {
          "output_type": "stream",
          "name": "stdout",
          "text": [
            "THE DIMENSIONS 2\n",
            "THE SIZE 9\n",
            "THE TYPE int64\n",
            "AFTER CHANGING THE TYPE [[b'10' b'20' b'30']\n",
            " [b'20' b'30' b'40']\n",
            " [b'30' b'40' b'50']]\n"
          ]
        }
      ]
    },
    {
      "cell_type": "code",
      "source": [
        "#manipulation\n",
        "print(np.random.randint(20))\n",
        "scale=1.0\n",
        "rnum=np.random.binomial(10,0.2,size=(5,5))\n",
        "print(\"RANDOM NUMBER DISTRUBUTION FROM BINOMIAL:\")\n",
        "print(rnum)\n",
        "tr=np.transpose(rnum)\n",
        "print(tr)\n",
        "print(tr.flatten())\n"
      ],
      "metadata": {
        "colab": {
          "base_uri": "https://localhost:8080/"
        },
        "id": "D4VAB_NFom1T",
        "outputId": "fb0b060b-9704-49fd-d3f6-218c6d235a65"
      },
      "execution_count": 5,
      "outputs": [
        {
          "output_type": "stream",
          "name": "stdout",
          "text": [
            "3\n",
            "RANDOM NUMBER DISTRUBUTION FROM BINOMIAL:\n",
            "[[2 3 3 3 2]\n",
            " [1 4 2 3 0]\n",
            " [2 2 3 0 3]\n",
            " [2 4 3 1 3]\n",
            " [4 0 2 1 5]]\n",
            "[[2 1 2 2 4]\n",
            " [3 4 2 4 0]\n",
            " [3 2 3 3 2]\n",
            " [3 3 0 1 1]\n",
            " [2 0 3 3 5]]\n",
            "[2 1 2 2 4 3 4 2 4 0 3 2 3 3 2 3 3 0 1 1 2 0 3 3 5]\n"
          ]
        }
      ]
    },
    {
      "cell_type": "code",
      "source": [
        "arr = np.array([1, 2, 3, 4, 5, 6])\n",
        "reshaped_arr = arr.reshape(2, 3)\n",
        "print(reshaped_arr)"
      ],
      "metadata": {
        "colab": {
          "base_uri": "https://localhost:8080/"
        },
        "id": "Wtlh9bKLrvC9",
        "outputId": "3da0dc05-e2f4-4794-d88b-988f9ac533fe"
      },
      "execution_count": 6,
      "outputs": [
        {
          "output_type": "stream",
          "name": "stdout",
          "text": [
            "[[1 2 3]\n",
            " [4 5 6]]\n"
          ]
        }
      ]
    },
    {
      "cell_type": "code",
      "source": [
        "arr = np.array([1, 2, 3, 4])\n",
        "np.resize(arr, (2, 3))"
      ],
      "metadata": {
        "colab": {
          "base_uri": "https://localhost:8080/"
        },
        "id": "knFa96Jkr0MW",
        "outputId": "9ea548b3-0057-417f-f9da-322456eafa5f"
      },
      "execution_count": 7,
      "outputs": [
        {
          "output_type": "execute_result",
          "data": {
            "text/plain": [
              "array([[1, 2, 3],\n",
              "       [4, 1, 2]])"
            ]
          },
          "metadata": {},
          "execution_count": 7
        }
      ]
    },
    {
      "cell_type": "code",
      "source": [
        "arr = np.array([1, 2, 3])\n",
        "new_arr = np.insert(arr, 1, 99)\n",
        "print(new_arr)"
      ],
      "metadata": {
        "colab": {
          "base_uri": "https://localhost:8080/"
        },
        "id": "Nfn_FCXDr7ga",
        "outputId": "c71febc4-a723-40e9-f17c-a11beddcdb8d"
      },
      "execution_count": 8,
      "outputs": [
        {
          "output_type": "stream",
          "name": "stdout",
          "text": [
            "[ 1 99  2  3]\n"
          ]
        }
      ]
    },
    {
      "cell_type": "code",
      "source": [
        "arr = np.array([1, 2, 3])\n",
        "new_arr = np.append(arr, [4, 5])\n",
        "print(new_arr)"
      ],
      "metadata": {
        "colab": {
          "base_uri": "https://localhost:8080/"
        },
        "id": "UIiX-hvmr_j3",
        "outputId": "db64c226-d4a0-4c2b-ba81-08ae97c44c10"
      },
      "execution_count": 9,
      "outputs": [
        {
          "output_type": "stream",
          "name": "stdout",
          "text": [
            "[1 2 3 4 5]\n"
          ]
        }
      ]
    },
    {
      "cell_type": "code",
      "source": [
        "arr = np.array([1, 2, 3, 4, 5])\n",
        "new_arr = np.delete(arr, [1, 3])\n",
        "print(new_arr)"
      ],
      "metadata": {
        "colab": {
          "base_uri": "https://localhost:8080/"
        },
        "id": "i9bu2sHYsKry",
        "outputId": "15a12c99-9bc7-4129-9a57-97ebf291aa11"
      },
      "execution_count": 10,
      "outputs": [
        {
          "output_type": "stream",
          "name": "stdout",
          "text": [
            "[1 3 5]\n"
          ]
        }
      ]
    },
    {
      "cell_type": "code",
      "source": [
        "arr = np.array([1, 2, 2, 3, 4, 4, 5])\n",
        "unique_arr = np.unique(arr)\n",
        "print(unique_arr)"
      ],
      "metadata": {
        "colab": {
          "base_uri": "https://localhost:8080/"
        },
        "id": "l8jDHnU8sXP5",
        "outputId": "050ddc5b-56a0-4d70-8e5c-16c1fa26d2b6"
      },
      "execution_count": 11,
      "outputs": [
        {
          "output_type": "stream",
          "name": "stdout",
          "text": [
            "[1 2 3 4 5]\n"
          ]
        }
      ]
    },
    {
      "cell_type": "code",
      "source": [
        "arr = np.array([1, 2, 3])\n",
        "arr_copy = np.copy(arr)\n",
        "print(arr_copy)"
      ],
      "metadata": {
        "colab": {
          "base_uri": "https://localhost:8080/"
        },
        "id": "i63FHJd7sa-O",
        "outputId": "9e5235ad-95cc-4d51-aaaf-b7d0c27c8a0d"
      },
      "execution_count": 12,
      "outputs": [
        {
          "output_type": "stream",
          "name": "stdout",
          "text": [
            "[1 2 3]\n"
          ]
        }
      ]
    },
    {
      "cell_type": "code",
      "source": [
        "arr = np.array([1, 2, 3, 4])\n",
        "view_arr = arr.view()\n",
        "view_arr[1] = 99\n",
        "\n",
        "print(arr)\n",
        "print(view_arr)\n"
      ],
      "metadata": {
        "colab": {
          "base_uri": "https://localhost:8080/"
        },
        "id": "Xzoa1VCwswhI",
        "outputId": "f656fbdf-2d44-4743-e292-57e080f717b0"
      },
      "execution_count": 13,
      "outputs": [
        {
          "output_type": "stream",
          "name": "stdout",
          "text": [
            "[ 1 99  3  4]\n",
            "[ 1 99  3  4]\n"
          ]
        }
      ]
    },
    {
      "cell_type": "code",
      "source": [
        "#basic operations and functions\n",
        "\n",
        "arr1 = np.array([1, 2, 3, 4])\n",
        "arr2 = np.array([5, 6, 7, 8])\n",
        "add_result = np.add(arr1, arr2)\n",
        "print(add_result)\n",
        "sub_result = np.subtract(arr1, arr2)\n",
        "print(sub_result)\n",
        "mul_result = np.multiply(arr1, arr2)\n",
        "print(mul_result)\n",
        "div_result = np.divide(arr1, arr2)\n",
        "print(div_result)\n",
        "sum_result = np.sum(arr1)\n",
        "print(sum_result)\n",
        "min_result = np.min(arr1)\n",
        "print(min_result)\n",
        "max_result = np.max(arr1)\n",
        "print(max_result)\n",
        "mean_result = np.mean(arr1)\n",
        "print(mean_result)\n",
        "sorted_arr = np.sort(arr1)\n",
        "print(sorted_arr)\n",
        "\n",
        "#arrage\n",
        "arr = np.arange(10)\n",
        "print(arr)"
      ],
      "metadata": {
        "colab": {
          "base_uri": "https://localhost:8080/"
        },
        "id": "m-JTrS-Js16q",
        "outputId": "3a3778a2-3ac5-46e9-a5f8-d71d5ec443c4"
      },
      "execution_count": 15,
      "outputs": [
        {
          "output_type": "stream",
          "name": "stdout",
          "text": [
            "[ 6  8 10 12]\n",
            "[-4 -4 -4 -4]\n",
            "[ 5 12 21 32]\n",
            "[0.2        0.33333333 0.42857143 0.5       ]\n",
            "10\n",
            "1\n",
            "4\n",
            "2.5\n",
            "[1 2 3 4]\n",
            "[0 1 2 3 4 5 6 7 8 9]\n"
          ]
        }
      ]
    }
  ]
}