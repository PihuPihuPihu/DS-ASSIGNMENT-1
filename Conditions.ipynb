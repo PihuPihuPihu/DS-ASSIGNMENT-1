{
  "nbformat": 4,
  "nbformat_minor": 0,
  "metadata": {
    "colab": {
      "provenance": []
    },
    "kernelspec": {
      "name": "python3",
      "display_name": "Python 3"
    },
    "language_info": {
      "name": "python"
    }
  },
  "cells": [
    {
      "cell_type": "code",
      "execution_count": 1,
      "metadata": {
        "id": "VhUu1Gfj85XT",
        "colab": {
          "base_uri": "https://localhost:8080/"
        },
        "outputId": "262d18e5-46d6-4f93-c8ed-e38c186a78e0"
      },
      "outputs": [
        {
          "output_type": "execute_result",
          "data": {
            "text/plain": [
              "4"
            ]
          },
          "metadata": {},
          "execution_count": 1
        }
      ],
      "source": [
        "x=1\n",
        "y=4\n",
        "z=3\n",
        "y"
      ]
    },
    {
      "cell_type": "code",
      "source": [
        "a=1+4+6+7+12+14+16\n",
        "a"
      ],
      "metadata": {
        "colab": {
          "base_uri": "https://localhost:8080/"
        },
        "id": "_kdc6TLAhjAA",
        "outputId": "7e2193b1-94e2-429f-a14c-e84b9df56ddf"
      },
      "execution_count": 2,
      "outputs": [
        {
          "output_type": "execute_result",
          "data": {
            "text/plain": [
              "60"
            ]
          },
          "metadata": {},
          "execution_count": 2
        }
      ]
    },
    {
      "cell_type": "code",
      "source": [
        "my_list=[1]\n",
        "my_tuple=(1,)\n",
        "my_list,my_tuple"
      ],
      "metadata": {
        "colab": {
          "base_uri": "https://localhost:8080/"
        },
        "id": "pbcWbnjZhlvo",
        "outputId": "dedf7eef-800d-4d56-b494-0e54e5c2c11b"
      },
      "execution_count": 3,
      "outputs": [
        {
          "output_type": "execute_result",
          "data": {
            "text/plain": [
              "([1], (1,))"
            ]
          },
          "metadata": {},
          "execution_count": 3
        }
      ]
    },
    {
      "cell_type": "code",
      "source": [
        "a=(17+3+4+5+1+19+21,)\n",
        "a\n"
      ],
      "metadata": {
        "colab": {
          "base_uri": "https://localhost:8080/"
        },
        "id": "ij3tG70vhoj4",
        "outputId": "919b5aa5-44f0-4e2b-b8d7-d0a75c25cc94"
      },
      "execution_count": 4,
      "outputs": [
        {
          "output_type": "execute_result",
          "data": {
            "text/plain": [
              "(70,)"
            ]
          },
          "metadata": {},
          "execution_count": 4
        }
      ]
    },
    {
      "cell_type": "code",
      "source": [
        "type(a)"
      ],
      "metadata": {
        "colab": {
          "base_uri": "https://localhost:8080/"
        },
        "id": "je9a4tfphqZr",
        "outputId": "e0bf4ada-a98e-4c42-d8fa-553d84b8be1e"
      },
      "execution_count": 5,
      "outputs": [
        {
          "output_type": "execute_result",
          "data": {
            "text/plain": [
              "tuple"
            ]
          },
          "metadata": {},
          "execution_count": 5
        }
      ]
    },
    {
      "cell_type": "code",
      "source": [
        "x='Hello World,\\\n",
        " Index.HTML'\n",
        "x"
      ],
      "metadata": {
        "colab": {
          "base_uri": "https://localhost:8080/",
          "height": 36
        },
        "id": "p3Pgurtfhskb",
        "outputId": "97a43597-cd67-4c99-e43b-50843c287286"
      },
      "execution_count": 6,
      "outputs": [
        {
          "output_type": "execute_result",
          "data": {
            "text/plain": [
              "'Hello World, Index.HTML'"
            ],
            "application/vnd.google.colaboratory.intrinsic+json": {
              "type": "string"
            }
          },
          "metadata": {},
          "execution_count": 6
        }
      ]
    },
    {
      "cell_type": "code",
      "source": [
        "a=1;b=2;c=3\n",
        "c"
      ],
      "metadata": {
        "colab": {
          "base_uri": "https://localhost:8080/"
        },
        "id": "td7k9AVqhyk-",
        "outputId": "adc13e7e-da9f-41c5-c88f-c6cce83e8843"
      },
      "execution_count": 7,
      "outputs": [
        {
          "output_type": "execute_result",
          "data": {
            "text/plain": [
              "3"
            ]
          },
          "metadata": {},
          "execution_count": 7
        }
      ]
    },
    {
      "cell_type": "code",
      "source": [
        "a,b=[1,'a',True],(33,42)\n",
        "a\n",
        ""
      ],
      "metadata": {
        "colab": {
          "base_uri": "https://localhost:8080/"
        },
        "id": "IDDQ0iU1h1lm",
        "outputId": "2e870bf0-8397-422d-af4c-706317b16580"
      },
      "execution_count": 8,
      "outputs": [
        {
          "output_type": "execute_result",
          "data": {
            "text/plain": [
              "[1, 'a', True]"
            ]
          },
          "metadata": {},
          "execution_count": 8
        }
      ]
    },
    {
      "cell_type": "code",
      "source": [
        "\n",
        "b"
      ],
      "metadata": {
        "colab": {
          "base_uri": "https://localhost:8080/"
        },
        "id": "fyXzIZufh3Wo",
        "outputId": "d818a18e-c439-41ee-f206-df373bb12953"
      },
      "execution_count": 9,
      "outputs": [
        {
          "output_type": "execute_result",
          "data": {
            "text/plain": [
              "(33, 42)"
            ]
          },
          "metadata": {},
          "execution_count": 9
        }
      ]
    },
    {
      "cell_type": "code",
      "source": [
        "a,b=b,a\n",
        "a\n",
        "b"
      ],
      "metadata": {
        "colab": {
          "base_uri": "https://localhost:8080/"
        },
        "id": "C_m7UyGOh7o5",
        "outputId": "1a05cb45-5002-4601-f597-ebb9a86aa50d"
      },
      "execution_count": 10,
      "outputs": [
        {
          "output_type": "execute_result",
          "data": {
            "text/plain": [
              "[1, 'a', True]"
            ]
          },
          "metadata": {},
          "execution_count": 10
        }
      ]
    },
    {
      "cell_type": "code",
      "source": [
        "# Single Line comment\n",
        "m=2\n",
        "m\n",
        ""
      ],
      "metadata": {
        "colab": {
          "base_uri": "https://localhost:8080/"
        },
        "id": "4F9MRJ5WiCul",
        "outputId": "1cc05ca9-340f-45e4-9355-647e827f2471"
      },
      "execution_count": 11,
      "outputs": [
        {
          "output_type": "execute_result",
          "data": {
            "text/plain": [
              "2"
            ]
          },
          "metadata": {},
          "execution_count": 11
        }
      ]
    },
    {
      "cell_type": "code",
      "source": [
        "\n",
        "\"\"\"Multiple Line\n",
        "comment\"\"\"\n",
        "n=4\n",
        "n"
      ],
      "metadata": {
        "colab": {
          "base_uri": "https://localhost:8080/"
        },
        "id": "aEseQl4WiFmg",
        "outputId": "abd05aca-db21-4302-9056-a24f317d59b9"
      },
      "execution_count": 12,
      "outputs": [
        {
          "output_type": "execute_result",
          "data": {
            "text/plain": [
              "4"
            ]
          },
          "metadata": {},
          "execution_count": 12
        }
      ]
    },
    {
      "cell_type": "code",
      "source": [
        "# Identation\n",
        "a=2\n",
        "b=1\n",
        "if a>b:\n",
        "  a=2\n",
        "  b=4\n",
        "print(a,b)"
      ],
      "metadata": {
        "colab": {
          "base_uri": "https://localhost:8080/"
        },
        "id": "34__XjbpiHrp",
        "outputId": "4f4ac001-d1d5-4384-b900-14df017b959f"
      },
      "execution_count": 13,
      "outputs": [
        {
          "output_type": "stream",
          "name": "stdout",
          "text": [
            "2 4\n"
          ]
        }
      ]
    },
    {
      "cell_type": "code",
      "source": [
        "# Conditional Statements\n",
        "i=5\n",
        "if i==3:\n",
        "  print(3)\n",
        "elif i==4:\n",
        "  print(4)\n",
        "else:\n",
        "  print(5)"
      ],
      "metadata": {
        "colab": {
          "base_uri": "https://localhost:8080/"
        },
        "id": "_xYAGV6diJ57",
        "outputId": "6213781d-3dde-4920-c4d9-88ca6a5355f5"
      },
      "execution_count": 14,
      "outputs": [
        {
          "output_type": "stream",
          "name": "stdout",
          "text": [
            "5\n"
          ]
        }
      ]
    },
    {
      "cell_type": "code",
      "source": [
        "x=27\n",
        "if x==27:\n",
        "  print('x is greater than 20')\n",
        "  print(f'x is {x}')"
      ],
      "metadata": {
        "colab": {
          "base_uri": "https://localhost:8080/"
        },
        "id": "rkv6Of9Eir0Q",
        "outputId": "c82f85b7-2ad1-4046-d15f-0acc8f58e1e3"
      },
      "execution_count": 15,
      "outputs": [
        {
          "output_type": "stream",
          "name": "stdout",
          "text": [
            "x is greater than 20\n",
            "x is 27\n"
          ]
        }
      ]
    },
    {
      "cell_type": "code",
      "source": [
        "x=False\n",
        "y=True\n",
        "if x:\n",
        "  print('if statement')\n",
        "else:\n",
        "  print('else statement')"
      ],
      "metadata": {
        "colab": {
          "base_uri": "https://localhost:8080/"
        },
        "id": "5p8xwDmgiu0N",
        "outputId": "e285bf83-c8eb-4c40-cfa1-7798bcb738f7"
      },
      "execution_count": 16,
      "outputs": [
        {
          "output_type": "stream",
          "name": "stdout",
          "text": [
            "else statement\n"
          ]
        }
      ]
    },
    {
      "cell_type": "code",
      "source": [
        "num1=4\n",
        "num2=3\n",
        "if num1>0:\n",
        "  if num2<10:\n",
        "    print(num1+num2)\n",
        "  else:\n",
        "    print('Second number must be less than first number')\n",
        "else:\n",
        "  if(num1<0):\n",
        "    print('First number should be greater than zero')"
      ],
      "metadata": {
        "colab": {
          "base_uri": "https://localhost:8080/"
        },
        "id": "GWbU8rm9ixEo",
        "outputId": "1c47ee55-5a40-4bc5-9919-24e364160fd5"
      },
      "execution_count": 17,
      "outputs": [
        {
          "output_type": "stream",
          "name": "stdout",
          "text": [
            "7\n"
          ]
        }
      ]
    },
    {
      "cell_type": "code",
      "source": [
        "if False:\n",
        "  print('Hello')\n",
        "else:\n",
        "  print('Hi')"
      ],
      "metadata": {
        "colab": {
          "base_uri": "https://localhost:8080/"
        },
        "id": "iQ5r1cQeizRN",
        "outputId": "a141d1b0-594f-4f58-8c6f-8e04b2a2f3e6"
      },
      "execution_count": 18,
      "outputs": [
        {
          "output_type": "stream",
          "name": "stdout",
          "text": [
            "Hi\n"
          ]
        }
      ]
    },
    {
      "cell_type": "code",
      "source": [
        "if []:\n",
        "  print('Computer Science')\n",
        "else:\n",
        "  print('Science')"
      ],
      "metadata": {
        "colab": {
          "base_uri": "https://localhost:8080/"
        },
        "id": "Q9NdIDshi2LY",
        "outputId": "bcfe82c9-085e-4ae2-c83f-76ab5ff2b80b"
      },
      "execution_count": 19,
      "outputs": [
        {
          "output_type": "stream",
          "name": "stdout",
          "text": [
            "Science\n"
          ]
        }
      ]
    },
    {
      "cell_type": "code",
      "source": [
        "if [None]:\n",
        "  print('Hello')\n",
        "else:\n",
        "  print('Hi')"
      ],
      "metadata": {
        "colab": {
          "base_uri": "https://localhost:8080/"
        },
        "id": "bWNoSYc1i4jn",
        "outputId": "59673b63-1552-41f7-9b0d-92a56ef300a4"
      },
      "execution_count": 20,
      "outputs": [
        {
          "output_type": "stream",
          "name": "stdout",
          "text": [
            "Hello\n"
          ]
        }
      ]
    },
    {
      "cell_type": "code",
      "source": [
        "if {x:1,y:2}:\n",
        "  print('True')\n",
        "else:\n",
        "  print('False')\n",
        ""
      ],
      "metadata": {
        "colab": {
          "base_uri": "https://localhost:8080/"
        },
        "id": "Q2Mp_MeCi77K",
        "outputId": "6b6ebc26-6ff2-4887-f662-bd890469a3e4"
      },
      "execution_count": 21,
      "outputs": [
        {
          "output_type": "stream",
          "name": "stdout",
          "text": [
            "True\n"
          ]
        }
      ]
    }
  ]
}