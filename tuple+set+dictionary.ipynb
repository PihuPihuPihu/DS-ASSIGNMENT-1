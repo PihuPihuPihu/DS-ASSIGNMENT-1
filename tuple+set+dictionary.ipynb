{
  "nbformat": 4,
  "nbformat_minor": 0,
  "metadata": {
    "colab": {
      "provenance": []
    },
    "kernelspec": {
      "name": "python3",
      "display_name": "Python 3"
    },
    "language_info": {
      "name": "python"
    }
  },
  "cells": [
    {
      "cell_type": "code",
      "execution_count": 9,
      "metadata": {
        "colab": {
          "base_uri": "https://localhost:8080/"
        },
        "id": "YP1L-t9VV1qH",
        "outputId": "6b57b2b2-0cac-403d-f111-e4e35351f32a"
      },
      "outputs": [
        {
          "output_type": "stream",
          "name": "stdout",
          "text": [
            "(1, 2, 3, 2, 1)\n",
            "<class 'tuple'>\n",
            "2\n",
            "1\n",
            "(2, 3)\n",
            "(3, 2, 1)\n",
            "(1, 2)\n",
            "[1, 1, 2, 2, 3]\n",
            "[1, 1, 2, 2, 3]\n",
            "2\n",
            "2\n"
          ]
        }
      ],
      "source": [
        "t=(1,2,3,2,1) #tuple\n",
        "print(t)\n",
        "print(type(t))\n",
        "print(t[3])\n",
        "print(t[-1])\n",
        "print(t[1:3])\n",
        "print(t[2:])\n",
        "print(t[:2])\n",
        "print(sorted(t))\n",
        "tt=sorted(t)\n",
        "print(tt)\n",
        "print(tt.index(2))\n",
        "print(t.count(1))"
      ]
    },
    {
      "cell_type": "code",
      "source": [
        "#set\n",
        "s=set()\n",
        "print(s)\n",
        "print(type(s))\n",
        "s={1,2,'abc'}\n",
        "print(type(s))\n",
        "print(s)\n",
        "s=set(t)\n",
        "print(s)\n",
        "s.add('def')\n",
        "s.update([5,6,7])\n",
        "s.remove(6)\n",
        "q={5,6,7,78,9}\n",
        "s.union(q)\n",
        "print(s|q)\n",
        "s.intersection(q)#&\n",
        "s.difference(q)#-\n",
        "s.symmetric_difference(q)#^"
      ],
      "metadata": {
        "colab": {
          "base_uri": "https://localhost:8080/"
        },
        "id": "3UCk7nArbLx5",
        "outputId": "21c17d92-babc-4996-bdb2-91b5d9ef9dcd"
      },
      "execution_count": 16,
      "outputs": [
        {
          "output_type": "stream",
          "name": "stdout",
          "text": [
            "set()\n",
            "<class 'set'>\n",
            "<class 'set'>\n",
            "{1, 2, 'abc'}\n",
            "{1, 2, 3}\n",
            "{1, 2, 3, 5, 'def', 7, 6, 9, 78}\n"
          ]
        },
        {
          "output_type": "execute_result",
          "data": {
            "text/plain": [
              "{1, 2, 3, 6, 78, 9, 'def'}"
            ]
          },
          "metadata": {},
          "execution_count": 16
        }
      ]
    },
    {
      "cell_type": "code",
      "source": [
        "#Dictionaries\n"
      ],
      "metadata": {
        "id": "LlvWzBTfsQmc"
      },
      "execution_count": null,
      "outputs": []
    }
  ]
}