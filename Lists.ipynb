{
  "nbformat": 4,
  "nbformat_minor": 0,
  "metadata": {
    "colab": {
      "provenance": []
    },
    "kernelspec": {
      "name": "python3",
      "display_name": "Python 3"
    },
    "language_info": {
      "name": "python"
    }
  },
  "cells": [
    {
      "cell_type": "code",
      "execution_count": 2,
      "metadata": {
        "colab": {
          "base_uri": "https://localhost:8080/"
        },
        "id": "z0pBTBw2Os1Y",
        "outputId": "dbf0f300-f933-4fee-c5f5-934655eb6105"
      },
      "outputs": [
        {
          "output_type": "stream",
          "name": "stdout",
          "text": [
            "[1, 1, -1]\n",
            "[1, 'a', 2.4, 'HELLO', 'ByE']\n",
            "2.4\n",
            "ByE\n",
            "2.4\n"
          ]
        },
        {
          "output_type": "execute_result",
          "data": {
            "text/plain": [
              "['a', 2.4, 'HELLO', 'ByE']"
            ]
          },
          "metadata": {},
          "execution_count": 2
        }
      ],
      "source": [
        "mlist=[1,1,-1]\n",
        "print(mlist)\n",
        "type(mlist)\n",
        "mlist=[1,'a',2.4,\"HELLO\",\"ByE\"]\n",
        "print(mlist)\n",
        "print(mlist[2])\n",
        "print(mlist[-1])\n",
        "print(mlist[-3])\n",
        "#slicing\n",
        "mlist[1:3]\n",
        "mlist[2:]\n",
        "mlist[:2]\n",
        "mlist[-4:]"
      ]
    },
    {
      "cell_type": "code",
      "source": [
        "#List Operations\n",
        "mlist+[\"NAHHHHHHHHHHHH\"]\n",
        "print(mlist)\n",
        "len(mlist*5)\n",
        "n=['a','c','b']\n",
        "print(sorted(n))\n",
        "\n",
        "mlist.append(n)\n",
        "print(mlist)\n",
        "mlist.extend(n)\n",
        "print(mlist)\n",
        "mlist.pop()\n",
        "mlist.remove('a')\n",
        "print(mlist.count('c'))\n",
        "mlist.clear\n",
        "print(mlist)\n",
        "mlist.index('c')\n",
        "mlist.reverse()\n"
      ],
      "metadata": {
        "colab": {
          "base_uri": "https://localhost:8080/"
        },
        "id": "vCtQaP37RJti",
        "outputId": "64b302d9-1c10-4cd8-b751-720558ce8139"
      },
      "execution_count": 20,
      "outputs": [
        {
          "output_type": "stream",
          "name": "stdout",
          "text": [
            "['c', ['a', 'c', 'b'], 'c', ['a', 'c', 'b'], 'c', ['a', 'c', 'b'], 'c', ['a', 'c', 'b']]\n",
            "['a', 'b', 'c']\n",
            "['c', ['a', 'c', 'b'], 'c', ['a', 'c', 'b'], 'c', ['a', 'c', 'b'], 'c', ['a', 'c', 'b'], ['a', 'c', 'b']]\n",
            "['c', ['a', 'c', 'b'], 'c', ['a', 'c', 'b'], 'c', ['a', 'c', 'b'], 'c', ['a', 'c', 'b'], ['a', 'c', 'b'], 'a', 'c', 'b']\n",
            "5\n",
            "['c', ['a', 'c', 'b'], 'c', ['a', 'c', 'b'], 'c', ['a', 'c', 'b'], 'c', ['a', 'c', 'b'], ['a', 'c', 'b'], 'c']\n",
            "['c', ['a', 'c', 'b'], ['a', 'c', 'b'], 'c', ['a', 'c', 'b'], 'c', ['a', 'c', 'b'], 'c', ['a', 'c', 'b'], 'c']\n"
          ]
        }
      ]
    }
  ]
}